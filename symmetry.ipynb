{
 "cells": [
  {
   "cell_type": "code",
   "execution_count": 166,
   "id": "4c8cd68b",
   "metadata": {
    "scrolled": false
   },
   "outputs": [],
   "source": [
    "import numpy as np\n",
    "from mp_api.client import MPRester\n",
    "from pymatgen.core.operations import SymmOp\n",
    "from pymatgen.symmetry.analyzer import SpacegroupAnalyzer\n",
    "from pymatgen.electronic_structure.plotter import BSPlotter\n",
    "from pymatgen.phonon.plotter import PhononBSPlotter\n",
    "from jupyter_jsmol.pymatgen import quick_view\n",
    "from lmapr1492 import plot_brillouin_zone, get_plot_bs, get_plot_dos, get_plot_bs_and_dos, get_branch_wavevectors\n",
    "from plotly.subplots import make_subplots\n",
    "import plotly.graph_objects as go\n",
    "from jupyter_jsmol import JsmolView\n",
    "from ipywidgets import Layout, widgets, interact\n",
    "from IPython.display import display"
   ]
  },
  {
   "cell_type": "code",
   "execution_count": 167,
   "id": "4a0bb7c2",
   "metadata": {},
   "outputs": [],
   "source": [
    "mp_key = \"iHKrsQ8aWfQ1QaXnodlQAIOBI4QNOfIj\"\n",
    "mp_id = \"mp-2784\""
   ]
  },
  {
   "cell_type": "code",
   "execution_count": 168,
   "id": "b42ea527",
   "metadata": {},
   "outputs": [
    {
     "data": {
      "application/vnd.jupyter.widget-view+json": {
       "model_id": "2909c844086d4f038bc2fd1d37ee76f0",
       "version_major": 2,
       "version_minor": 0
      },
      "text/plain": [
       "Retrieving MaterialsDoc documents:   0%|          | 0/1 [00:00<?, ?it/s]"
      ]
     },
     "metadata": {},
     "output_type": "display_data"
    }
   ],
   "source": [
    "with MPRester(mp_key) as m:\n",
    "    prim_struc = m.get_structure_by_material_id(mp_id) # Structure cristalline primitive\n",
    "    conv_struc = SpacegroupAnalyzer(prim_struc).get_conventional_standard_structure() # Structure cristalline conventionelle\n",
    "    symmops = SpacegroupAnalyzer(conv_struc).get_space_group_operations() # Retourne les opérations de symétries\n",
    "    "
   ]
  },
  {
   "cell_type": "markdown",
   "id": "afbc5262",
   "metadata": {},
   "source": [
    "La représentation du Na2Te dans la maille conventionnelle est reprise ci-dessous. "
   ]
  },
  {
   "cell_type": "code",
   "execution_count": 169,
   "id": "ceacf85a",
   "metadata": {},
   "outputs": [
    {
     "data": {
      "application/vnd.jupyter.widget-view+json": {
       "model_id": "b4562d386e7747e78fb26772ae27ee8c",
       "version_major": 2,
       "version_minor": 0
      },
      "text/plain": [
       "JsmolView(layout=Layout(align_self='stretch', height='400px'))"
      ]
     },
     "metadata": {},
     "output_type": "display_data"
    }
   ],
   "source": [
    "view = quick_view(conv_struc, \"packed\", conventional = True)\n",
    "display(view)\n",
    "view.script('rotate on')"
   ]
  },
  {
   "cell_type": "markdown",
   "id": "3d658da9",
   "metadata": {},
   "source": [
    "J'ai détaillé ci-dessous 3 éléments de symétries, chacune pour un atome différent. Chaque symétrie est définie par sa matrice de rotation (rot) et un vecteur de translation (tau). De plus, il est possible de visualiser les symétries via une représentation 3D. \n",
    "(Remarque : si les opérations de symétries ne s'affichent pas, il faut réexécuter les cellules concernées une à une.)"
   ]
  },
  {
   "cell_type": "code",
   "execution_count": 174,
   "id": "cba05597",
   "metadata": {},
   "outputs": [
    {
     "name": "stdout",
     "output_type": "stream",
     "text": [
      "Numéro de l'atome étudié : 1 --> (Na)\n",
      "(Remarque : le numéro des atomes est celui qui apparait quand je laisse ma souris sur l'atome.)\n",
      "Opérations de symétries associées : \n",
      "\n",
      "Rot:\n",
      "[[ 0. -1.  0.]\n",
      " [ 1.  0.  0.]\n",
      " [ 0.  0.  1.]]\n",
      "tau\n",
      "[0.5 0.5 0. ]\n",
      "\n",
      "\n",
      "Position initiale de l'atome : [0.25 0.25 0.25]\n",
      "Position finale de l'atome : [0.25 0.75 0.25]\n"
     ]
    },
    {
     "data": {
      "application/vnd.jupyter.widget-view+json": {
       "model_id": "131b7a8f35d54e7bb68078474133aa20",
       "version_major": 2,
       "version_minor": 0
      },
      "text/plain": [
       "JsmolView(layout=Layout(align_self='stretch', height='400px'))"
      ]
     },
     "metadata": {},
     "output_type": "display_data"
    }
   ],
   "source": [
    "# Première symétrie. \n",
    "\n",
    "print(\"Numéro de l'atome étudié : \" + str(1) + \" --> (Na)\" )\n",
    "print(\"(Remarque : le numéro des atomes est celui qui apparait quand je laisse ma souris sur l'atome.)\")\n",
    "print(\"Opérations de symétries associées : \\n\")\n",
    "\n",
    "i_atom = 1\n",
    "i_symmop = 50\n",
    "symmop = symmops[i_symmop]\n",
    "print(symmop)\n",
    "print(\"\\n\")\n",
    "\n",
    "pos_init = conv_struc.sites[6].frac_coords\n",
    "pos_final = symmop.operate(pos_init)\n",
    "print(\"Position initiale de l'atome : \" + str(pos_init))\n",
    "print(\"Position finale de l'atome : \" + str(pos_final))\n",
    "\n",
    "\n",
    "view2 = quick_view(conv_struc, \"packed\", conventional = True)\n",
    "display(view2)\n",
    "\n",
    "\n",
    "view2.script('draw SYMOP ' + str(i_symmop + 1) + ' {atomno = ' + str(i_atom) + '}')\n",
    "\n"
   ]
  },
  {
   "cell_type": "markdown",
   "id": "1bb2d9ab",
   "metadata": {},
   "source": [
    "Nous pouvons observer que l'opération de symétrie consiste en un axe de rotation d'ordre 4 (rotation de pi/2)."
   ]
  },
  {
   "cell_type": "code",
   "execution_count": 173,
   "id": "89bd8291",
   "metadata": {
    "scrolled": true
   },
   "outputs": [
    {
     "name": "stdout",
     "output_type": "stream",
     "text": [
      "Numéro de l'atome étudié : 2 --> (Te)\n",
      "(Remarque : le numéro des atomes est celui qui apparait quand je laisse ma souris sur l'atome.)\n",
      "Opérations de symétries associées : \n",
      "\n",
      "Rot:\n",
      "[[-1.  0.  0.]\n",
      " [ 0. -1.  0.]\n",
      " [ 0.  0.  1.]]\n",
      "tau\n",
      "[0.5 0.  0.5]\n",
      "\n",
      "\n",
      "Position initiale de l'atome : [0. 0. 0.]\n",
      "Position finale de l'atome : [0.5 0.  0.5]\n"
     ]
    },
    {
     "data": {
      "application/vnd.jupyter.widget-view+json": {
       "model_id": "e1f04349c8eb45739185856337357b00",
       "version_major": 2,
       "version_minor": 0
      },
      "text/plain": [
       "JsmolView(layout=Layout(align_self='stretch', height='400px'))"
      ]
     },
     "metadata": {},
     "output_type": "display_data"
    }
   ],
   "source": [
    "# Deuxième symétrie.\n",
    "\n",
    "print(\"Numéro de l'atome étudié : \" + str(2) + \" --> (Te)\" )\n",
    "print(\"(Remarque : le numéro des atomes est celui qui apparait quand je laisse ma souris sur l'atome.)\")\n",
    "print(\"Opérations de symétries associées : \\n\")\n",
    "\n",
    "i_atom = 2\n",
    "i_symmop = 100\n",
    "symmop = symmops[i_symmop]\n",
    "print(symmop)\n",
    "print(\"\\n\")\n",
    "pos_init = conv_struc.sites[8].frac_coords\n",
    "pos_final = symmop.operate(pos_init)\n",
    "print(\"Position initiale de l'atome : \" + str(pos_init))\n",
    "print(\"Position finale de l'atome : \" + str(pos_final))\n",
    "\n",
    "view3 = quick_view(conv_struc, \"packed\", conventional = True)\n",
    "display(view3)\n",
    "view3.script('draw SYMOP ' + str(i_symmop + 1) + ' {atomno = ' + str(i_atom) + '}')"
   ]
  },
  {
   "cell_type": "markdown",
   "id": "6758dac7",
   "metadata": {},
   "source": [
    "Nous pouvons observer que la symétrie consiste en un axe hélicoïdal 2_1. En effet, une rotation de valeur pi est effectuée sur une 1/2 maille. "
   ]
  },
  {
   "cell_type": "code",
   "execution_count": 172,
   "id": "4c81a338",
   "metadata": {
    "scrolled": false
   },
   "outputs": [
    {
     "name": "stdout",
     "output_type": "stream",
     "text": [
      "Numéro de l'atome étudié : 12 --> (Te)\n",
      "(Remarque : le numéro des atomes est celui qui apparait quand je laisse ma souris sur l'atome.)\n",
      "Opérations de symétries associées : \n",
      "\n",
      "Rot:\n",
      "[[-1.  0.  0.]\n",
      " [ 0.  1.  0.]\n",
      " [ 0.  0.  1.]]\n",
      "tau\n",
      "[0.  0.5 0.5]\n",
      "\n",
      "\n",
      "Position initiale de l'atome : [0.  0.5 0.5]\n",
      "Position finale de l'atome : [0. 1. 1.]\n"
     ]
    },
    {
     "data": {
      "application/vnd.jupyter.widget-view+json": {
       "model_id": "744a550db2514601b86347db4dd3cc44",
       "version_major": 2,
       "version_minor": 0
      },
      "text/plain": [
       "JsmolView(layout=Layout(align_self='stretch', height='400px'))"
      ]
     },
     "metadata": {},
     "output_type": "display_data"
    }
   ],
   "source": [
    "# Troisième symétrie. \n",
    "print(\"Numéro de l'atome étudié : \" + str(12) + \" --> (Te)\" )\n",
    "print(\"(Remarque : le numéro des atomes est celui qui apparait quand je laisse ma souris sur l'atome.)\")\n",
    "print(\"Opérations de symétries associées : \\n\")\n",
    "\n",
    "i_atom = 12\n",
    "i_symmop = 153\n",
    "symmop = symmops[i_symmop]\n",
    "print(symmop)\n",
    "print(\"\\n\")\n",
    "pos_init = conv_struc.sites[9].frac_coords\n",
    "pos_final = symmop.operate(pos_init)\n",
    "print(\"Position initiale de l'atome : \" + str(pos_init))\n",
    "print(\"Position finale de l'atome : \" + str(pos_final))\n",
    "\n",
    "view4 = quick_view(conv_struc, \"packed\", conventional = True)\n",
    "display(view4)\n",
    "view4.script('draw SYMOP ' + str(i_symmop + 1) + ' {atomno = ' + str(i_atom) + '}')"
   ]
  },
  {
   "cell_type": "markdown",
   "id": "a9234cbb",
   "metadata": {},
   "source": [
    "Nous pouvons observer que la symétrie consiste en une translation ainsi que d'une inversion selon le plan (en bleu sur le dessin) perpendiculaire au vecteur de base 'a'. Les éléments (qui ne sont pas dans le plan) sont donc \"réfléchis\" par le plan, comme un miroir."
   ]
  },
  {
   "cell_type": "code",
   "execution_count": null,
   "id": "1cedeab2",
   "metadata": {},
   "outputs": [],
   "source": []
  }
 ],
 "metadata": {
  "kernelspec": {
   "display_name": "Python 3 (ipykernel)",
   "language": "python",
   "name": "python3"
  },
  "language_info": {
   "codemirror_mode": {
    "name": "ipython",
    "version": 3
   },
   "file_extension": ".py",
   "mimetype": "text/x-python",
   "name": "python",
   "nbconvert_exporter": "python",
   "pygments_lexer": "ipython3",
   "version": "3.9.13"
  }
 },
 "nbformat": 4,
 "nbformat_minor": 5
}
