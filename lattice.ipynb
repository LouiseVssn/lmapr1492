{
 "cells": [
  {
   "cell_type": "markdown",
   "id": "12e8f9ed",
   "metadata": {},
   "source": [
    "# Réseau cristallin du Na2Te\n",
    "#### Vaessen Louise, 59762100."
   ]
  },
  {
   "cell_type": "markdown",
   "id": "eba772fe",
   "metadata": {},
   "source": [
    "### Importation des packages et des données nécessaires"
   ]
  },
  {
   "cell_type": "code",
   "execution_count": 8,
   "id": "7504a5da",
   "metadata": {},
   "outputs": [],
   "source": [
    "import numpy as np\n",
    "from mp_api.client import MPRester\n",
    "from pymatgen.core.operations import SymmOp\n",
    "from pymatgen.symmetry.analyzer import SpacegroupAnalyzer\n",
    "from pymatgen.core.lattice import Lattice\n",
    "from jupyter_jsmol.pymatgen import quick_view\n",
    "from lmapr1492 import plot_brillouin_zone, get_plot_bs, get_plot_dos, get_plot_bs_and_dos, get_branch_wavevectors\n",
    "from plotly.subplots import make_subplots\n",
    "import plotly.graph_objects as go\n",
    "from jupyter_jsmol import JsmolView\n",
    "from ipywidgets import Layout, widgets, interact\n",
    "from IPython.display import display"
   ]
  },
  {
   "cell_type": "code",
   "execution_count": 2,
   "id": "e2654850",
   "metadata": {},
   "outputs": [],
   "source": [
    "mp_key = \"iHKrsQ8aWfQ1QaXnodlQAIOBI4QNOfIj\"\n",
    "mp_id = \"mp-2784\""
   ]
  },
  {
   "cell_type": "code",
   "execution_count": 3,
   "id": "0dff7321",
   "metadata": {},
   "outputs": [
    {
     "data": {
      "application/vnd.jupyter.widget-view+json": {
       "model_id": "1afe276ea9aa46b7b9829aad22827245",
       "version_major": 2,
       "version_minor": 0
      },
      "text/plain": [
       "Retrieving MaterialsDoc documents:   0%|          | 0/1 [00:00<?, ?it/s]"
      ]
     },
     "metadata": {},
     "output_type": "display_data"
    }
   ],
   "source": [
    "with MPRester(mp_key) as m:\n",
    "    prim_struc = m.get_structure_by_material_id(mp_id) # Structure cristalline primitive\n",
    "    conv_struc = SpacegroupAnalyzer(prim_struc).get_conventional_standard_structure() # Structure cristalline conventionelle\n",
    "    symmops = SpacegroupAnalyzer(conv_struc).get_space_group_operations() # Retourne les opérations de symétries"
   ]
  },
  {
   "cell_type": "markdown",
   "id": "1a5a8946",
   "metadata": {},
   "source": [
    "## Analyse du réseau cristallin"
   ]
  },
  {
   "cell_type": "markdown",
   "id": "3148e469",
   "metadata": {},
   "source": [
    "### Représentation dans le réseau direct"
   ]
  },
  {
   "cell_type": "markdown",
   "id": "e53d7581",
   "metadata": {},
   "source": [
    "On retrouve ci-dessous une visualisation 3D dans le réseau direct de la maille primitive et conventionnelle. "
   ]
  },
  {
   "cell_type": "code",
   "execution_count": 4,
   "id": "3c2e7c39",
   "metadata": {},
   "outputs": [
    {
     "data": {
      "application/vnd.jupyter.widget-view+json": {
       "model_id": "b2862c184fc74ae3afe3e10d161a1eed",
       "version_major": 2,
       "version_minor": 0
      },
      "text/plain": [
       "JsmolView(layout=Layout(align_self='stretch', height='400px'))"
      ]
     },
     "metadata": {},
     "output_type": "display_data"
    }
   ],
   "source": [
    "# Representation maille primitive dans le reseau direct. \n",
    "\n",
    "view = quick_view(prim_struc, \"packed\", conventional = False) # Représentation interactive de la structure cristalline.\n",
    "display(view)"
   ]
  },
  {
   "cell_type": "code",
   "execution_count": 5,
   "id": "37079dd7",
   "metadata": {
    "scrolled": true
   },
   "outputs": [
    {
     "data": {
      "application/vnd.jupyter.widget-view+json": {
       "model_id": "136d839477854ea48aeae6d780a1a2c1",
       "version_major": 2,
       "version_minor": 0
      },
      "text/plain": [
       "JsmolView(layout=Layout(align_self='stretch', height='400px'))"
      ]
     },
     "metadata": {},
     "output_type": "display_data"
    }
   ],
   "source": [
    "# Representation de la maille conventionnelle. \n",
    "\n",
    "view = quick_view(conv_struc, \"packed\", conventional = True) # Représentation interactive de la structure cristalline.\n",
    "display(view)"
   ]
  },
  {
   "cell_type": "markdown",
   "id": "5ef29a9a",
   "metadata": {},
   "source": [
    "### Vecteurs de base"
   ]
  },
  {
   "cell_type": "code",
   "execution_count": 9,
   "id": "5cc1b24d",
   "metadata": {},
   "outputs": [
    {
     "name": "stdout",
     "output_type": "stream",
     "text": [
      "Les vecteurs de base du réseau direct (conventionnel) sont : \n",
      "a : [7.2659580e+00 0.0000000e+00 4.4491161e-16]\n",
      "b : [1.16845516e-15 7.26595800e+00 4.44911610e-16]\n",
      "c : [0.       0.       7.265958]\n"
     ]
    }
   ],
   "source": [
    "# Les vecteurs de base du réseau direct (conventionnel).\n",
    "\n",
    "a = 7.265958\n",
    "b = 7.265958\n",
    "c = 7.265958\n",
    "alpha = 90.0\n",
    "beta = 90.0\n",
    "gamma = 90.0\n",
    "lattice = Lattice.from_parameters(a=a, b=b, c=c, alpha=alpha, beta=beta, gamma=gamma)\n",
    "vecteur_base_direct = lattice.matrix\n",
    "print(\"Les vecteurs de base du réseau direct (conventionnel) sont : \")\n",
    "print(\"a : \" + str(vecteur_base_direct[0]))\n",
    "print(\"b : \" + str(vecteur_base_direct[1]))\n",
    "print(\"c : \" + str(vecteur_base_direct[2]))"
   ]
  },
  {
   "cell_type": "code",
   "execution_count": 11,
   "id": "a8d1ee0f",
   "metadata": {},
   "outputs": [
    {
     "name": "stdout",
     "output_type": "stream",
     "text": [
      "Les vecteurs de base du réseau réciproque sont : \n",
      "a* : [ 8.64742861e-01 -1.39061258e-16  0.00000000e+00]\n",
      "b* : [0.         0.86474286 0.        ]\n",
      "c* : [-5.29502288e-17 -5.29502288e-17  8.64742861e-01]\n"
     ]
    }
   ],
   "source": [
    "# Les vecteurs de base du réseau réciproque.\n",
    "\n",
    "reciproque = lattice.reciprocal_lattice\n",
    "vecteur_base_reciproque = reciproque.matrix\n",
    "print(\"Les vecteurs de base du réseau réciproque sont : \")\n",
    "print(\"a* : \" + str(vecteur_base_reciproque[0]))\n",
    "print(\"b* : \" + str(vecteur_base_reciproque[1]))\n",
    "print(\"c* : \" + str(vecteur_base_reciproque[2]))"
   ]
  },
  {
   "cell_type": "markdown",
   "id": "8197ea90",
   "metadata": {},
   "source": [
    "### Réseau cristallin"
   ]
  },
  {
   "cell_type": "code",
   "execution_count": 12,
   "id": "67b934ac",
   "metadata": {},
   "outputs": [
    {
     "name": "stdout",
     "output_type": "stream",
     "text": [
      "Le système cristallin du matériau est : cubic.\n"
     ]
    }
   ],
   "source": [
    "# Le système cristallin du matériau.\n",
    "\n",
    "systeme_cristallin = SpacegroupAnalyzer(conv_struc).get_crystal_system()\n",
    "print(\"Le système cristallin du matériau est : \" + str(systeme_cristallin) + \".\")"
   ]
  },
  {
   "cell_type": "code",
   "execution_count": 13,
   "id": "3437616c",
   "metadata": {},
   "outputs": [
    {
     "name": "stdout",
     "output_type": "stream",
     "text": [
      "Le type de maille du matériau est : F.\n"
     ]
    }
   ],
   "source": [
    "# Le type de maille du matériau.\n",
    "\n",
    "type_de_maille = SpacegroupAnalyzer(conv_struc).get_space_group_symbol()\n",
    "print(\"Le type de maille du matériau est : \" + str(type_de_maille[0])+\".\")"
   ]
  },
  {
   "cell_type": "code",
   "execution_count": 14,
   "id": "9a3cdd4b",
   "metadata": {
    "scrolled": false
   },
   "outputs": [
    {
     "name": "stdout",
     "output_type": "stream",
     "text": [
      "Le groupe ponctuel de ce matériau est : m-3m\n"
     ]
    }
   ],
   "source": [
    "#Le groupe ponctuel du matériau.\n",
    "\n",
    "groupe_ponctuel = SpacegroupAnalyzer(conv_struc).get_point_group_symbol()\n",
    "print(\"Le groupe ponctuel de ce matériau est : \" + str(groupe_ponctuel))"
   ]
  },
  {
   "cell_type": "markdown",
   "id": "b2821de8",
   "metadata": {},
   "source": [
    "## Conclusion"
   ]
  },
  {
   "cell_type": "markdown",
   "id": "5cb43382",
   "metadata": {},
   "source": [
    "Pour résumer, le matériau $Na_2Te$ est donc dans le réseau direct un système cristallin trigonal et dans le réseau conventionnel un système cristallin cubique.\n",
    "Pour la suite, considérons la maille conventionnelle, plus facile à visualiser.\n",
    "Le type de maille est Face Centré (F). Le réseau de Bravais est donc Cubique Face Centré (CFC). Le groupe ponctuel est m(-3)m. Ceci implique que mon matériau possède un plan miroir le long des directions : [100], [010] et [001]. Il y a également une roto-inversion d'ordre 3 (donc un axe de symétrie d'ordre 3 puis une inversion) le long des axes : [111], [1-1-1], [-11-1] et [-1-11]. Il s'agit des diagonales de la maille. Enfin, le dernier symbole de symétrie implique qu'il existe des plans miroirs selon : [110], [101], [011], [1-10], [10-1] et [01-1], soit les diagonales des arrêtes. \n",
    "\n",
    "Les vecteurs de base du réseau direct sont donnés par (avec les valeurs correspondant respectivement aux 3 axes d'un repère orthonormé) :\n",
    "\n",
    "a : (7.26596,0,0)\n",
    "\n",
    "b : (0,7.26596,0)\n",
    "\n",
    "c : (0,0,7.26596)\n",
    "\n",
    "Ceux du réseau réciproque sont donnés par : \n",
    "\n",
    "a* : (0.8647,0,0)\n",
    "\n",
    "b* : (0,0.8647,0)\n",
    "\n",
    "c* : (0,0,0.8647)\n",
    "\n",
    "(Après vérification, les vecteurs du réseau réciproque sont corrects vis-à-vis du direct car $a.a^* = 2\\pi$ et $b.a^* = 0$.)\n"
   ]
  },
  {
   "cell_type": "code",
   "execution_count": null,
   "id": "a99172ac",
   "metadata": {},
   "outputs": [],
   "source": []
  }
 ],
 "metadata": {
  "kernelspec": {
   "display_name": "Python 3 (ipykernel)",
   "language": "python",
   "name": "python3"
  },
  "language_info": {
   "codemirror_mode": {
    "name": "ipython",
    "version": 3
   },
   "file_extension": ".py",
   "mimetype": "text/x-python",
   "name": "python",
   "nbconvert_exporter": "python",
   "pygments_lexer": "ipython3",
   "version": "3.9.13"
  }
 },
 "nbformat": 4,
 "nbformat_minor": 5
}
