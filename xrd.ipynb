{
 "cells": [
  {
   "cell_type": "markdown",
   "id": "769a3bb6",
   "metadata": {},
   "source": [
    "# Pics de diffraction du $Na_2Te$\n",
    "#### Vaessen Louise, 59762100."
   ]
  },
  {
   "cell_type": "markdown",
   "id": "fcc429d9",
   "metadata": {},
   "source": [
    "### Importation des packages et des données nécessaires"
   ]
  },
  {
   "cell_type": "code",
   "execution_count": 14,
   "id": "11fc8bad",
   "metadata": {},
   "outputs": [],
   "source": [
    "import numpy as np\n",
    "from mp_api.client import MPRester\n",
    "from pymatgen.core.operations import SymmOp\n",
    "from pymatgen.symmetry.analyzer import SpacegroupAnalyzer\n",
    "from pymatgen.electronic_structure.plotter import BSPlotter\n",
    "from pymatgen.phonon.plotter import PhononBSPlotter\n",
    "from jupyter_jsmol.pymatgen import quick_view\n",
    "from lmapr1492 import plot_brillouin_zone, get_plot_bs, get_plot_dos, get_plot_bs_and_dos, get_branch_wavevectors\n",
    "from plotly.subplots import make_subplots\n",
    "import plotly.graph_objects as go\n",
    "from pymatgen.analysis.diffraction.xrd import XRDCalculator"
   ]
  },
  {
   "cell_type": "code",
   "execution_count": 15,
   "id": "08aea5c6",
   "metadata": {},
   "outputs": [],
   "source": [
    "mp_key = \"iHKrsQ8aWfQ1QaXnodlQAIOBI4QNOfIj\"\n",
    "mp_id = \"mp-2784\""
   ]
  },
  {
   "cell_type": "code",
   "execution_count": 16,
   "id": "0e9ba9f9",
   "metadata": {},
   "outputs": [
    {
     "data": {
      "application/vnd.jupyter.widget-view+json": {
       "model_id": "c05cd32e9e2b4716942e1481ba86c600",
       "version_major": 2,
       "version_minor": 0
      },
      "text/plain": [
       "Retrieving MaterialsDoc documents:   0%|          | 0/1 [00:00<?, ?it/s]"
      ]
     },
     "metadata": {},
     "output_type": "display_data"
    }
   ],
   "source": [
    "with MPRester(mp_key) as m:\n",
    "    prim_struc = m.get_structure_by_material_id(mp_id)\n",
    "conv_struc = SpacegroupAnalyzer(prim_struc).get_conventional_standard_structure()"
   ]
  },
  {
   "cell_type": "markdown",
   "id": "1ab1409d",
   "metadata": {},
   "source": [
    "### Pics de diffraction et leur intensité."
   ]
  },
  {
   "cell_type": "code",
   "execution_count": 17,
   "id": "f2b482fc",
   "metadata": {},
   "outputs": [],
   "source": [
    "XRD = XRDCalculator(1.54060) # Creation du calculateur avec le rayonnement X incident souhaite.\n",
    "plan = XRD.get_pattern(conv_struc) # Conv_struc pour pouvoir comparer avec les valeurs dans 'The Materials Project'\n",
    "hkl = plan.hkls # Liste dont chaque element est un dictionnaire avec les plans hkl et leurs multiplicités.\n",
    "d_hkl = plan.d_hkls # Liste reprennant la distance entre les plans. "
   ]
  },
  {
   "cell_type": "markdown",
   "id": "6facf655",
   "metadata": {},
   "source": [
    "Déterminons les 3 premiers pics de diffraction du $Na_2Te$ pour un rayonnement X incident Cu Kα de longueur d’onde λ=1.54060 Å."
   ]
  },
  {
   "cell_type": "markdown",
   "id": "31edfb27",
   "metadata": {},
   "source": [
    "Lorsqu'un rayonnement X incident est envoyé sur un cristal (ici, du $Na_2Te$), le faisceau est diffracté dù à la présence du réseau d'atome. Les interférences des différents atomes peuvent être constructives ou destructives. Les interférences seront constructives si la condition de Bragg est respectée : $n\\lambda = 2d.sin(\\theta)$, avec $d$ la distance entre les plans, $\\theta$ l'angle du faisceau par rapport au plan et $\\lambda$ la longueur d'onde du faiseau incident. À ces angles précis, il résulte des pics de diffractions, possédant une intensité et associés à des plans de diffraction. L'intensité des pics diminue lorsque theta augmente car elle est liée au facteur de forme atomique (qui diminue lorsque $\\theta$ augmente). Il faut également noter que pour pour certains cristaux, les pics associés à une certaine combinaison 'hkl' peuvent être absents du schéma de diffraction. Il s'agit d'extinctions systématiques. En effet, pour un réseau d'atomes, la somme des ondes diffusées peut être décomposée en une partie dùe au réseau et une dùe à la maille. La partie associée au réseau détermine les positions des pics. Celle associée à la maille est appelée 'facteur de structure de la maille' et influence l'intensité des pics. Ce facteur dépend notemment du facteur de forme atomique. Certaines combinaisons 'hkl' induisent un facteur de structure de maille nul, ce qui implique une intensité du pic nulle. Ces combinaisons seront différentes pour chaque système cristallin. L'intensité des pics est également influencée par le nombre de plans équivalents. Si ce nombre augmente, il y a plus de d'interférences constructives possible, donc l'intensité augmente.\n",
    "\n",
    "La distance entre les plans est déterminées par : $d = \\frac{2\\pi}{||v||}$ avec $v = h.a^* + k.b^* + l.c^*$."
   ]
  },
  {
   "cell_type": "code",
   "execution_count": 18,
   "id": "38e185e6",
   "metadata": {},
   "outputs": [
    {
     "name": "stdout",
     "output_type": "stream",
     "text": [
      "\n",
      "---------------------------------\n",
      "Pic de diffraction n°1.\n",
      "\n",
      "2ϴ = 21.1617°\n",
      "Intensité (scaled) = 100.0\n",
      "(h,k,l) = (1, 1, 1)\n",
      "Multiplicité = 8\n",
      "Distance entre les plans = 4.195 Å\n",
      "\n",
      "---------------------------------\n",
      "Pic de diffraction n°2.\n",
      "\n",
      "2ϴ = 24.4827°\n",
      "Intensité (scaled) = 18.84\n",
      "(h,k,l) = (2, 0, 0)\n",
      "Multiplicité = 6\n",
      "Distance entre les plans = 3.633 Å\n",
      "\n",
      "---------------------------------\n",
      "Pic de diffraction n°3.\n",
      "\n",
      "2ϴ = 34.8978°\n",
      "Intensité (scaled) = 81.2218\n",
      "(h,k,l) = (2, 2, 0)\n",
      "Multiplicité = 12\n",
      "Distance entre les plans = 2.5689 Å\n"
     ]
    }
   ],
   "source": [
    "# Prendre les 3 premiers pics. \n",
    "\n",
    "for i in range(3) : \n",
    "    print(\"\\n---------------------------------\")\n",
    "    print(\"Pic de diffraction n°\" + str(i + 1) +\".\\n\")\n",
    "    print(\"2\\u03F4 = \" + str(round(plan.x[i], 4)) + \"°\")\n",
    "    print(\"Intensité (scaled) = \" + str(round(plan.y[i], 4)))\n",
    "    print(\"(h,k,l) = \" +str(hkl[i][0]['hkl']))\n",
    "    print(\"Multiplicité = \" + str(hkl[i][0]['multiplicity']))\n",
    "    print(\"Distance entre les plans = \" + str(round(d_hkl[i], 4)) + \" Å\")"
   ]
  },
  {
   "cell_type": "markdown",
   "id": "70ba59f9",
   "metadata": {},
   "source": [
    "L'ensemble des caractéristiques pour les trois premiers pics de diffractions sont reprises ci-dessus.\n",
    "Les données correspondent à celles publiées sur 'The Materials Project'. \n",
    "On peut remarquer une certaine logique : l'angle $\\theta$ et $(h^2 + k^2 + l^2)^{1/2}$ augmentent au fur et à mesure des pics. On peut également noter que la distance interplanaire est plus grande que la distance atomique (± 1 Ångström). De plus, l'intensité des premiers pics est grande, ce qui correspond à la théorie qui nous dit que lorsque $\\theta$ est petit, le facteur de forme $f(\\theta)$ ±= Z, avec Z le numéro atomique de l'élément. L'intensité du deuxième pic est plus faible car le facteur de structure de la maille doit être moindre et il y a moins de plans équivalents ((100) et (-100)). Le troisième pic a une intensité élevée notemment car sa multiplicité est élevée (la famille de plan (220) est équivalente à (-220), (2-20) et (-2-20)). Cependant, ce pic est plus faible que le premier car, d'une part l'angle $\\theta$ est plus grand (donc le facteur de forme atomique est plus petit) et d'autre part, ce pic possède moins de plans équivalents que le premier. La visualisation des différents pics est reprise ci-dessous.  "
   ]
  },
  {
   "cell_type": "markdown",
   "id": "e25e060a",
   "metadata": {},
   "source": [
    "### Graphe des pics de diffraction."
   ]
  },
  {
   "cell_type": "code",
   "execution_count": 21,
   "id": "ef3de31f",
   "metadata": {},
   "outputs": [
    {
     "ename": "TypeError",
     "evalue": "get_plot() got an unexpected keyword argument 'title'",
     "output_type": "error",
     "traceback": [
      "\u001b[0;31m---------------------------------------------------------------------------\u001b[0m",
      "\u001b[0;31mTypeError\u001b[0m                                 Traceback (most recent call last)",
      "Cell \u001b[0;32mIn[21], line 1\u001b[0m\n\u001b[0;32m----> 1\u001b[0m \u001b[43mXRD\u001b[49m\u001b[38;5;241;43m.\u001b[39;49m\u001b[43mget_plot\u001b[49m\u001b[43m(\u001b[49m\u001b[43mconv_struc\u001b[49m\u001b[43m,\u001b[49m\u001b[43m \u001b[49m\u001b[43mtitle\u001b[49m\u001b[43m \u001b[49m\u001b[38;5;241;43m=\u001b[39;49m\u001b[43m \u001b[49m\u001b[38;5;124;43m'\u001b[39;49m\u001b[38;5;124;43mf\u001b[39;49m\u001b[38;5;124;43m'\u001b[39;49m\u001b[43m)\u001b[49m\n",
      "\u001b[0;31mTypeError\u001b[0m: get_plot() got an unexpected keyword argument 'title'"
     ]
    }
   ],
   "source": [
    "XRD.get_plot(conv_struc)"
   ]
  },
  {
   "cell_type": "code",
   "execution_count": null,
   "id": "eed9f01d",
   "metadata": {},
   "outputs": [],
   "source": []
  }
 ],
 "metadata": {
  "kernelspec": {
   "display_name": "Python 3 (ipykernel)",
   "language": "python",
   "name": "python3"
  },
  "language_info": {
   "codemirror_mode": {
    "name": "ipython",
    "version": 3
   },
   "file_extension": ".py",
   "mimetype": "text/x-python",
   "name": "python",
   "nbconvert_exporter": "python",
   "pygments_lexer": "ipython3",
   "version": "3.9.13"
  }
 },
 "nbformat": 4,
 "nbformat_minor": 5
}
