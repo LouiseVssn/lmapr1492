{
 "cells": [
  {
   "cell_type": "code",
   "execution_count": 129,
   "id": "11fc8bad",
   "metadata": {},
   "outputs": [],
   "source": [
    "import numpy as np\n",
    "from mp_api.client import MPRester\n",
    "from pymatgen.core.operations import SymmOp\n",
    "from pymatgen.symmetry.analyzer import SpacegroupAnalyzer\n",
    "from pymatgen.electronic_structure.plotter import BSPlotter\n",
    "from pymatgen.phonon.plotter import PhononBSPlotter\n",
    "from jupyter_jsmol.pymatgen import quick_view\n",
    "from lmapr1492 import plot_brillouin_zone, get_plot_bs, get_plot_dos, get_plot_bs_and_dos, get_branch_wavevectors\n",
    "from plotly.subplots import make_subplots\n",
    "import plotly.graph_objects as go\n",
    "from pymatgen.analysis.diffraction.xrd import XRDCalculator"
   ]
  },
  {
   "cell_type": "code",
   "execution_count": 130,
   "id": "08aea5c6",
   "metadata": {},
   "outputs": [],
   "source": [
    "mp_key = \"iHKrsQ8aWfQ1QaXnodlQAIOBI4QNOfIj\"\n",
    "mp_id = \"mp-2784\""
   ]
  },
  {
   "cell_type": "code",
   "execution_count": 131,
   "id": "0e9ba9f9",
   "metadata": {},
   "outputs": [
    {
     "data": {
      "application/vnd.jupyter.widget-view+json": {
       "model_id": "1ee8673f110748ce8303c45f664c9fbb",
       "version_major": 2,
       "version_minor": 0
      },
      "text/plain": [
       "Retrieving MaterialsDoc documents:   0%|          | 0/1 [00:00<?, ?it/s]"
      ]
     },
     "metadata": {},
     "output_type": "display_data"
    }
   ],
   "source": [
    "with MPRester(mp_key) as m:\n",
    "    prim_struc = m.get_structure_by_material_id(mp_id)\n",
    "conv_struc = SpacegroupAnalyzer(prim_struc).get_conventional_standard_structure()"
   ]
  },
  {
   "cell_type": "code",
   "execution_count": 132,
   "id": "f2b482fc",
   "metadata": {},
   "outputs": [],
   "source": [
    "XRD = XRDCalculator(1.54060) # Creation du calculateur avec le rayonnement X incident souhaite.\n",
    "plan = XRD.get_pattern(conv_struc) # Conv_struc pour pouvoir comparer avec les valeurs dans 'The Materials Project'\n",
    "hkl = plan.hkls # Liste dont chaque element est un dictionnaire avec les plans hkl et leurs multiplicités.\n",
    "d_hkl = plan.d_hkls # Liste reprennant la distance entre les plans. "
   ]
  },
  {
   "cell_type": "markdown",
   "id": "6facf655",
   "metadata": {},
   "source": [
    "Déterminons les 3 premiers pics de diffraction du Na2Te pour un rayonnement X incident Cu Kα de longueur d’onde λ=1.54060 Å."
   ]
  },
  {
   "cell_type": "markdown",
   "id": "31edfb27",
   "metadata": {},
   "source": [
    "Lorsqu'un rayonnement X incident est envoyé sur un cristal (ici, du Na2Te), le faisceau est diffracté dù à la présence du réseau d'atome. Les interférences des différents atomes peuvent être constructives ou destructives. Les interférences seront constructives si la condition de Bragg est respectée : n.lambda = 2d.sin(theta), avec d la distance entre les plans, theta l'angle du faisceau par rapport au plan et lambda la longueur d'onde du faiseau incident. À ces angles précis, il résulte des pics de diffractions, possédant une intensité et associés à des plans de diffraction. L'intensité des pics diminue lorsque theta augmente car elle est liée au facteur de forme atomique (qui diminue lorsque theta augmente). Il faut également noter que pour pour certains cristaux, les pics associés à une certaine combinaison 'hkl' peuvent être absents du schéma de diffraction. Il s'agit d'extinctions systématiques. Ces combinaisons 'hkl' induisent un facteur de structure de maille nul, ce qui induit une intensité du pic nulle. Ces combinaisons seront différentes pour chaque système cristallin. L'intensité des pics est également influencée par le nombre de plans équivalents. Si ce nombre augmente, il y a plus de diffraction constructive possible, donc l'intensité augmente.\n",
    "\n",
    "La distance entre les plans est déterminées par : d = 2pi/|v| avec v = h.a* + k.b* + l.c*"
   ]
  },
  {
   "cell_type": "code",
   "execution_count": 133,
   "id": "38e185e6",
   "metadata": {},
   "outputs": [
    {
     "name": "stdout",
     "output_type": "stream",
     "text": [
      "\n",
      "---------------------------------\n",
      "Pic de diffraction n°1.\n",
      "\n",
      "2ϴ = 21.1617°\n",
      "Intensité (unité arbitraire) = 100.0\n",
      "(h,k,l) = (1, 1, 1)\n",
      "Distance entre les plans = 4.195 Å\n",
      "\n",
      "---------------------------------\n",
      "Pic de diffraction n°2.\n",
      "\n",
      "2ϴ = 24.4827°\n",
      "Intensité (unité arbitraire) = 18.84\n",
      "(h,k,l) = (2, 0, 0)\n",
      "Distance entre les plans = 3.633 Å\n",
      "\n",
      "---------------------------------\n",
      "Pic de diffraction n°3.\n",
      "\n",
      "2ϴ = 34.8978°\n",
      "Intensité (unité arbitraire) = 81.2218\n",
      "(h,k,l) = (2, 2, 0)\n",
      "Distance entre les plans = 2.5689 Å\n"
     ]
    }
   ],
   "source": [
    "# Prendre les 3 premiers pics. \n",
    "\n",
    "for i in range(3) : \n",
    "    print(\"\\n---------------------------------\")\n",
    "    print(\"Pic de diffraction n°\" + str(i + 1) +\".\\n\")\n",
    "    print(\"2\\u03F4 = \" + str(round(plan.x[i], 4)) + \"°\")\n",
    "    print(\"Intensité (unité arbitraire) = \" + str(round(plan.y[i], 4)))\n",
    "    print(\"(h,k,l) = \" +str(hkl[i][0]['hkl']))\n",
    "    print(\"Distance entre les plans = \" + str(round(d_hkl[i], 4)) + \" Å\")"
   ]
  },
  {
   "cell_type": "markdown",
   "id": "70ba59f9",
   "metadata": {},
   "source": [
    "L'ensemble des caractéristiques pour les trois premiers pics de diffractions sont reprises ci-dessus. Il s'agit des caractéristiques déterminées à partir de la maille conventionelle. \n",
    "Les données correspondent à celles publiées sur 'The Materials Project'. \n",
    "On peut remarquer une certaine logique : l'angle theta et (h^2 + k^2 + l^2)^(1/2) augmentent au fur et à mesure des pics. On peut noter aussi que la distance interplanaire est plus grande que la distance atomique (± 1 Ångström)."
   ]
  }
 ],
 "metadata": {
  "kernelspec": {
   "display_name": "Python 3 (ipykernel)",
   "language": "python",
   "name": "python3"
  },
  "language_info": {
   "codemirror_mode": {
    "name": "ipython",
    "version": 3
   },
   "file_extension": ".py",
   "mimetype": "text/x-python",
   "name": "python",
   "nbconvert_exporter": "python",
   "pygments_lexer": "ipython3",
   "version": "3.9.13"
  }
 },
 "nbformat": 4,
 "nbformat_minor": 5
}
